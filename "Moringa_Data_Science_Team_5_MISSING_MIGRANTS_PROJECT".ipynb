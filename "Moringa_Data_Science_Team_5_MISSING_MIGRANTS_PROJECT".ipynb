{
  "nbformat": 4,
  "nbformat_minor": 5,
  "metadata": {
    "kernelspec": {
      "display_name": "Python 3",
      "language": "python",
      "name": "python3"
    },
    "language_info": {
      "codemirror_mode": {
        "name": "ipython",
        "version": 3
      },
      "file_extension": ".py",
      "mimetype": "text/x-python",
      "name": "python",
      "nbconvert_exporter": "python",
      "pygments_lexer": "ipython3",
      "version": "3.8.8"
    },
    "colab": {
      "name": "\"Moringa_Data_Science_Team_5_MISSING_MIGRANTS_PROJECT\".ipynb",
      "provenance": [],
      "collapsed_sections": [],
      "include_colab_link": true
    }
  },
  "cells": [
    {
      "cell_type": "markdown",
      "metadata": {
        "id": "view-in-github",
        "colab_type": "text"
      },
      "source": [
        "<a href=\"https://colab.research.google.com/github/maronga/Dsp13-Prep-Final-Team-5-Project/blob/main/%22Moringa_Data_Science_Team_5_MISSING_MIGRANTS_PROJECT%22.ipynb\" target=\"_parent\"><img src=\"https://colab.research.google.com/assets/colab-badge.svg\" alt=\"Open In Colab\"/></a>"
      ]
    },
    {
      "cell_type": "markdown",
      "metadata": {
        "id": "sP-32yHfJpde"
      },
      "source": [
        "# **MISSING MIGRANTS PROJECT**"
      ],
      "id": "sP-32yHfJpde"
    },
    {
      "cell_type": "markdown",
      "metadata": {
        "id": "AIsVsSSPf_8H"
      },
      "source": [
        "##Business problem"
      ],
      "id": "AIsVsSSPf_8H"
    },
    {
      "cell_type": "markdown",
      "metadata": {
        "id": "u1xb0I4Sf7xe"
      },
      "source": [
        "\n",
        "Every year, hundreds of thousands of people leave their homes in search of a better life. In the process, many are injured or killed thus IOM came up with the Missing Migrants Project to track deaths of migrants and those who have gone missing along migratory routes across the globe. This enables them to identify ways of curbing death among migrants and understand the background of those who are most at risk to lose their life during migration.\n"
      ],
      "id": "u1xb0I4Sf7xe"
    },
    {
      "cell_type": "markdown",
      "metadata": {
        "id": "yFM9-qp9ASne"
      },
      "source": [
        "**Defining the Metric for Success**\n",
        "\n",
        "This analysis requires us to come up with a solution that will help provide a better understanding on the leading cause of death of migrants.We therefore need to identify the metrics that are signifinant in determining this and offer insights.We will implement the solution by performing the analysis.\n"
      ],
      "id": "yFM9-qp9ASne"
    },
    {
      "cell_type": "markdown",
      "metadata": {
        "id": "P3Rop5J6BAlZ"
      },
      "source": [
        "**Understanding the context**\n",
        "\n",
        "The International Organization for Migration (IOM)’s Missing Migrants Project records incidents in which migrants, including refugees and asylum-seekers, have died at state borders or in the process of migrating to an international destination. It was developed in response to disparate reports of people dying or disappearing along migratory routes around the world.The data is used to inform the Sustainable Development Goals Indicator 10.7.3 on the “[n]number of people who died or disappeared in the process of migration towards an international destination.”\n",
        "\n",
        "More than 40,000 people have lost their lives during unsafe migration journeys since 2014. The data collected by the Missing Migrants Project bear witness to one of the great political failures of modern times. IOM calls for immediate safe, humane and legal routes for migration. Better data can help inform policies to end migrant deaths and address the needs of families left behind.\n"
      ],
      "id": "P3Rop5J6BAlZ"
    },
    {
      "cell_type": "markdown",
      "metadata": {
        "id": "6p_Gkqk0F2Bh"
      },
      "source": [
        "# Business Understanding"
      ],
      "id": "6p_Gkqk0F2Bh"
    },
    {
      "cell_type": "markdown",
      "metadata": {
        "id": "pzORFhMuhF9Y"
      },
      "source": [
        "## Business Objective"
      ],
      "id": "pzORFhMuhF9Y"
    },
    {
      "cell_type": "markdown",
      "metadata": {
        "id": "21M2mKOygouw"
      },
      "source": [
        "To find the leading cause of migrants death and the factors that may add/influence it"
      ],
      "id": "21M2mKOygouw"
    },
    {
      "cell_type": "markdown",
      "metadata": {
        "id": "uidsd3T_gjhg"
      },
      "source": [
        "## Research Questions"
      ],
      "id": "uidsd3T_gjhg"
    },
    {
      "cell_type": "markdown",
      "metadata": {
        "id": "AkIlMGBQgUNU"
      },
      "source": [
        "1.What was the leading cause of death?\n",
        "\n",
        "2.Which migrant’s region of origin had the highest deaths?\n",
        "\n",
        "3.Which migrant's region of origin had the highest missing people?\n",
        "\n",
        "4 What was the most affected nationality?\n",
        "\n",
        "5.Which incident region had the highest number of dead people\n",
        "\n",
        "6.Which incident region had the highest number of missing people?"
      ],
      "id": "AkIlMGBQgUNU"
    },
    {
      "cell_type": "markdown",
      "metadata": {
        "id": "n_59WcVcJRRB"
      },
      "source": [
        "# Importing Libraries"
      ],
      "id": "n_59WcVcJRRB"
    },
    {
      "cell_type": "code",
      "metadata": {
        "id": "k0cjPwGLVaY8"
      },
      "source": [
        "# Importing the pandas library\n",
        "# \n",
        "import pandas as pd\n",
        "\n",
        "# Importing the numpy library\n",
        "#\n",
        "import numpy as np"
      ],
      "id": "k0cjPwGLVaY8",
      "execution_count": null,
      "outputs": []
    },
    {
      "cell_type": "markdown",
      "metadata": {
        "id": "nGV3pwBfRGqx"
      },
      "source": [
        "# Loading and reading our dataset"
      ],
      "id": "nGV3pwBfRGqx"
    },
    {
      "cell_type": "markdown",
      "metadata": {
        "id": "Kzq_nPQEpL7i"
      },
      "source": [
        "The dataset [can be found here](https://www.kaggle.com/jmataya/missingmigrants)"
      ],
      "id": "Kzq_nPQEpL7i"
    },
    {
      "cell_type": "code",
      "metadata": {
        "id": "77c300fc"
      },
      "source": [
        "#reading and loading our dataset\n",
        "mm= pd.read_csv('/content/MissingMigrantsProject.csv', encoding= 'unicode_escape')"
      ],
      "id": "77c300fc",
      "execution_count": null,
      "outputs": []
    },
    {
      "cell_type": "code",
      "metadata": {
        "colab": {
          "base_uri": "https://localhost:8080/",
          "height": 307
        },
        "id": "f9Ue90UDYMd-",
        "outputId": "077e05c0-fcf1-4ea2-a0c2-d5f1e4f722ae"
      },
      "source": [
        "mm.tail()"
      ],
      "id": "f9Ue90UDYMd-",
      "execution_count": null,
      "outputs": [
        {
          "output_type": "execute_result",
          "data": {
            "text/html": [
              "<div>\n",
              "<style scoped>\n",
              "    .dataframe tbody tr th:only-of-type {\n",
              "        vertical-align: middle;\n",
              "    }\n",
              "\n",
              "    .dataframe tbody tr th {\n",
              "        vertical-align: top;\n",
              "    }\n",
              "\n",
              "    .dataframe thead th {\n",
              "        text-align: right;\n",
              "    }\n",
              "</style>\n",
              "<table border=\"1\" class=\"dataframe\">\n",
              "  <thead>\n",
              "    <tr style=\"text-align: right;\">\n",
              "      <th></th>\n",
              "      <th>id</th>\n",
              "      <th>cause_of_death</th>\n",
              "      <th>region_origin</th>\n",
              "      <th>affected_nationality</th>\n",
              "      <th>missing</th>\n",
              "      <th>dead</th>\n",
              "      <th>incident_region</th>\n",
              "      <th>date</th>\n",
              "      <th>source</th>\n",
              "      <th>reliability</th>\n",
              "      <th>lat</th>\n",
              "      <th>lon</th>\n",
              "    </tr>\n",
              "  </thead>\n",
              "  <tbody>\n",
              "    <tr>\n",
              "      <th>2415</th>\n",
              "      <td>184746</td>\n",
              "      <td>Drowning</td>\n",
              "      <td>Central America &amp; Mexico</td>\n",
              "      <td>NaN</td>\n",
              "      <td>NaN</td>\n",
              "      <td>1.0</td>\n",
              "      <td>U.S./Mexico Border</td>\n",
              "      <td>20/05/2017</td>\n",
              "      <td>Líder Informativo</td>\n",
              "      <td>Partially Verified</td>\n",
              "      <td>27.455267</td>\n",
              "      <td>-99.493386</td>\n",
              "    </tr>\n",
              "    <tr>\n",
              "      <th>2416</th>\n",
              "      <td>184747</td>\n",
              "      <td>Train accident</td>\n",
              "      <td>Central America &amp; Mexico</td>\n",
              "      <td>Honduras</td>\n",
              "      <td>NaN</td>\n",
              "      <td>1.0</td>\n",
              "      <td>U.S./Mexico Border</td>\n",
              "      <td>26/05/2017</td>\n",
              "      <td>netnoticias.mx</td>\n",
              "      <td>Partially Verified</td>\n",
              "      <td>28.712901</td>\n",
              "      <td>-100.497975</td>\n",
              "    </tr>\n",
              "    <tr>\n",
              "      <th>2417</th>\n",
              "      <td>184748</td>\n",
              "      <td>NaN</td>\n",
              "      <td>Central America &amp; Mexico</td>\n",
              "      <td>Honduras</td>\n",
              "      <td>NaN</td>\n",
              "      <td>1.0</td>\n",
              "      <td>U.S./Mexico Border</td>\n",
              "      <td>27/05/2017</td>\n",
              "      <td>Águilas del Desierto</td>\n",
              "      <td>Partially Verified</td>\n",
              "      <td>32.304420</td>\n",
              "      <td>-112.904651</td>\n",
              "    </tr>\n",
              "    <tr>\n",
              "      <th>2418</th>\n",
              "      <td>184749</td>\n",
              "      <td>Train accident</td>\n",
              "      <td>Central America &amp; Mexico</td>\n",
              "      <td>NaN</td>\n",
              "      <td>NaN</td>\n",
              "      <td>1.0</td>\n",
              "      <td>Central America incl. Mexico</td>\n",
              "      <td>29/05/2017</td>\n",
              "      <td>Zócalo</td>\n",
              "      <td>Partially Verified</td>\n",
              "      <td>26.777611</td>\n",
              "      <td>-101.429548</td>\n",
              "    </tr>\n",
              "    <tr>\n",
              "      <th>2419</th>\n",
              "      <td>184750</td>\n",
              "      <td>Dehydration</td>\n",
              "      <td>Sub-Saharan Africa</td>\n",
              "      <td>Ghana, Nigeria</td>\n",
              "      <td>NaN</td>\n",
              "      <td>44.0</td>\n",
              "      <td>North Africa</td>\n",
              "      <td>31/05/2017</td>\n",
              "      <td>IOM Niger</td>\n",
              "      <td>Verified</td>\n",
              "      <td>18.917266</td>\n",
              "      <td>12.477509</td>\n",
              "    </tr>\n",
              "  </tbody>\n",
              "</table>\n",
              "</div>"
            ],
            "text/plain": [
              "          id  cause_of_death  ...        lat         lon\n",
              "2415  184746        Drowning  ...  27.455267  -99.493386\n",
              "2416  184747  Train accident  ...  28.712901 -100.497975\n",
              "2417  184748             NaN  ...  32.304420 -112.904651\n",
              "2418  184749  Train accident  ...  26.777611 -101.429548\n",
              "2419  184750     Dehydration  ...  18.917266   12.477509\n",
              "\n",
              "[5 rows x 12 columns]"
            ]
          },
          "metadata": {},
          "execution_count": 185
        }
      ]
    },
    {
      "cell_type": "markdown",
      "metadata": {
        "id": "mhTvdkqJZruP"
      },
      "source": [
        "# **Data Understanding**"
      ],
      "id": "mhTvdkqJZruP"
    },
    {
      "cell_type": "code",
      "metadata": {
        "colab": {
          "base_uri": "https://localhost:8080/"
        },
        "id": "TqAeFKNXaAbk",
        "outputId": "6ff5e273-d579-43c2-82b4-f12ea85e92c1"
      },
      "source": [
        "#getting info\n",
        "mm.info()"
      ],
      "id": "TqAeFKNXaAbk",
      "execution_count": null,
      "outputs": [
        {
          "output_type": "stream",
          "name": "stdout",
          "text": [
            "<class 'pandas.core.frame.DataFrame'>\n",
            "RangeIndex: 2420 entries, 0 to 2419\n",
            "Data columns (total 12 columns):\n",
            " #   Column                Non-Null Count  Dtype  \n",
            "---  ------                --------------  -----  \n",
            " 0   id                    2420 non-null   int64  \n",
            " 1   cause_of_death        2217 non-null   object \n",
            " 2   region_origin         1977 non-null   object \n",
            " 3   affected_nationality  845 non-null    object \n",
            " 4   missing               271 non-null    float64\n",
            " 5   dead                  2318 non-null   float64\n",
            " 6   incident_region       2410 non-null   object \n",
            " 7   date                  2411 non-null   object \n",
            " 8   source                2413 non-null   object \n",
            " 9   reliability           2096 non-null   object \n",
            " 10  lat                   2416 non-null   float64\n",
            " 11  lon                   2416 non-null   float64\n",
            "dtypes: float64(4), int64(1), object(7)\n",
            "memory usage: 227.0+ KB\n"
          ]
        }
      ]
    },
    {
      "cell_type": "markdown",
      "metadata": {
        "id": "VEWT8hQnZz1c"
      },
      "source": [
        "There are three different types of datatypes."
      ],
      "id": "VEWT8hQnZz1c"
    },
    {
      "cell_type": "code",
      "metadata": {
        "colab": {
          "base_uri": "https://localhost:8080/",
          "height": 295
        },
        "id": "UIrKFTW8Z5WH",
        "outputId": "f987b2b5-135d-4a8f-eb54-f5dab40bc426"
      },
      "source": [
        "#describing our dataset\n",
        "mm.describe()"
      ],
      "id": "UIrKFTW8Z5WH",
      "execution_count": null,
      "outputs": [
        {
          "output_type": "execute_result",
          "data": {
            "text/html": [
              "<div>\n",
              "<style scoped>\n",
              "    .dataframe tbody tr th:only-of-type {\n",
              "        vertical-align: middle;\n",
              "    }\n",
              "\n",
              "    .dataframe tbody tr th {\n",
              "        vertical-align: top;\n",
              "    }\n",
              "\n",
              "    .dataframe thead th {\n",
              "        text-align: right;\n",
              "    }\n",
              "</style>\n",
              "<table border=\"1\" class=\"dataframe\">\n",
              "  <thead>\n",
              "    <tr style=\"text-align: right;\">\n",
              "      <th></th>\n",
              "      <th>id</th>\n",
              "      <th>missing</th>\n",
              "      <th>dead</th>\n",
              "      <th>lat</th>\n",
              "      <th>lon</th>\n",
              "    </tr>\n",
              "  </thead>\n",
              "  <tbody>\n",
              "    <tr>\n",
              "      <th>count</th>\n",
              "      <td>2420.00000</td>\n",
              "      <td>271.000000</td>\n",
              "      <td>2318.000000</td>\n",
              "      <td>2416.000000</td>\n",
              "      <td>2416.000000</td>\n",
              "    </tr>\n",
              "    <tr>\n",
              "      <th>mean</th>\n",
              "      <td>95926.26405</td>\n",
              "      <td>39.656827</td>\n",
              "      <td>4.729077</td>\n",
              "      <td>26.901380</td>\n",
              "      <td>-13.995935</td>\n",
              "    </tr>\n",
              "    <tr>\n",
              "      <th>std</th>\n",
              "      <td>62191.92252</td>\n",
              "      <td>84.130918</td>\n",
              "      <td>20.539717</td>\n",
              "      <td>11.518420</td>\n",
              "      <td>61.694081</td>\n",
              "    </tr>\n",
              "    <tr>\n",
              "      <th>min</th>\n",
              "      <td>1.00000</td>\n",
              "      <td>0.000000</td>\n",
              "      <td>0.000000</td>\n",
              "      <td>-26.224531</td>\n",
              "      <td>-117.070560</td>\n",
              "    </tr>\n",
              "    <tr>\n",
              "      <th>25%</th>\n",
              "      <td>28571.25000</td>\n",
              "      <td>3.000000</td>\n",
              "      <td>1.000000</td>\n",
              "      <td>19.535706</td>\n",
              "      <td>-97.035666</td>\n",
              "    </tr>\n",
              "    <tr>\n",
              "      <th>50%</th>\n",
              "      <td>121178.00000</td>\n",
              "      <td>10.000000</td>\n",
              "      <td>1.000000</td>\n",
              "      <td>29.348889</td>\n",
              "      <td>14.471100</td>\n",
              "    </tr>\n",
              "    <tr>\n",
              "      <th>75%</th>\n",
              "      <td>144678.25000</td>\n",
              "      <td>33.000000</td>\n",
              "      <td>3.000000</td>\n",
              "      <td>34.041291</td>\n",
              "      <td>32.010437</td>\n",
              "    </tr>\n",
              "    <tr>\n",
              "      <th>max</th>\n",
              "      <td>184750.00000</td>\n",
              "      <td>750.000000</td>\n",
              "      <td>750.000000</td>\n",
              "      <td>66.967199</td>\n",
              "      <td>116.224928</td>\n",
              "    </tr>\n",
              "  </tbody>\n",
              "</table>\n",
              "</div>"
            ],
            "text/plain": [
              "                 id     missing         dead          lat          lon\n",
              "count    2420.00000  271.000000  2318.000000  2416.000000  2416.000000\n",
              "mean    95926.26405   39.656827     4.729077    26.901380   -13.995935\n",
              "std     62191.92252   84.130918    20.539717    11.518420    61.694081\n",
              "min         1.00000    0.000000     0.000000   -26.224531  -117.070560\n",
              "25%     28571.25000    3.000000     1.000000    19.535706   -97.035666\n",
              "50%    121178.00000   10.000000     1.000000    29.348889    14.471100\n",
              "75%    144678.25000   33.000000     3.000000    34.041291    32.010437\n",
              "max    184750.00000  750.000000   750.000000    66.967199   116.224928"
            ]
          },
          "metadata": {},
          "execution_count": 187
        }
      ]
    },
    {
      "cell_type": "markdown",
      "metadata": {
        "id": "BiADzAVkZ7qd"
      },
      "source": [
        "These are the basic statistical values."
      ],
      "id": "BiADzAVkZ7qd"
    },
    {
      "cell_type": "markdown",
      "metadata": {
        "id": "-BfB3fJ6XBh1"
      },
      "source": [
        "Several columns have missing values."
      ],
      "id": "-BfB3fJ6XBh1"
    },
    {
      "cell_type": "code",
      "metadata": {
        "id": "7a712d22",
        "colab": {
          "base_uri": "https://localhost:8080/"
        },
        "outputId": "1e9b492a-972a-4dc3-d8ca-6f932c6b0541"
      },
      "source": [
        "#getting the shape of our dataset\n",
        "mm.shape"
      ],
      "id": "7a712d22",
      "execution_count": null,
      "outputs": [
        {
          "output_type": "execute_result",
          "data": {
            "text/plain": [
              "(2420, 12)"
            ]
          },
          "metadata": {},
          "execution_count": 188
        }
      ]
    },
    {
      "cell_type": "markdown",
      "metadata": {
        "id": "9Hk73P-EXEtt"
      },
      "source": [
        "The dataframe has 2420 rows and 12 columns."
      ],
      "id": "9Hk73P-EXEtt"
    },
    {
      "cell_type": "code",
      "metadata": {
        "colab": {
          "base_uri": "https://localhost:8080/"
        },
        "id": "uAisPWvwWCr0",
        "outputId": "a22dae2f-437c-4307-d810-e71239e521a0"
      },
      "source": [
        "#looking for duplicates\n",
        "mm.duplicated(keep=False).sum()"
      ],
      "id": "uAisPWvwWCr0",
      "execution_count": null,
      "outputs": [
        {
          "output_type": "execute_result",
          "data": {
            "text/plain": [
              "0"
            ]
          },
          "metadata": {},
          "execution_count": 189
        }
      ]
    },
    {
      "cell_type": "markdown",
      "metadata": {
        "id": "A0yjThNSY2og"
      },
      "source": [
        "The dataframe has no duplicates."
      ],
      "id": "A0yjThNSY2og"
    },
    {
      "cell_type": "markdown",
      "metadata": {
        "id": "S3Vi6SOBJ2zl"
      },
      "source": [
        "# **Data** **Cleaning**\n",
        "This done by following the data integrity rules i.e Validity, Accuracy, Completeness, Consistency, Uniformity to ensure the data is ready for analysis."
      ],
      "id": "S3Vi6SOBJ2zl"
    },
    {
      "cell_type": "markdown",
      "metadata": {
        "id": "iiG6jT_PdD5-"
      },
      "source": [
        "## Validity"
      ],
      "id": "iiG6jT_PdD5-"
    },
    {
      "cell_type": "code",
      "metadata": {
        "colab": {
          "base_uri": "https://localhost:8080/"
        },
        "id": "k5AZ_Ki6lLA3",
        "outputId": "c9858bfe-f04b-40e8-ae16-232c07bc72fd"
      },
      "source": [
        "mm.columns"
      ],
      "id": "k5AZ_Ki6lLA3",
      "execution_count": null,
      "outputs": [
        {
          "output_type": "execute_result",
          "data": {
            "text/plain": [
              "Index(['id', 'cause_of_death', 'region_origin', 'affected_nationality',\n",
              "       'missing', 'dead', 'incident_region', 'date', 'source', 'reliability',\n",
              "       'lat', 'lon'],\n",
              "      dtype='object')"
            ]
          },
          "metadata": {},
          "execution_count": 190
        }
      ]
    },
    {
      "cell_type": "code",
      "metadata": {
        "id": "hI-5Ge4PK0L-",
        "colab": {
          "base_uri": "https://localhost:8080/",
          "height": 417
        },
        "outputId": "46ea1933-39a9-4543-e453-45235608d595"
      },
      "source": [
        "#Procedure 1: Irrelevant Data\n",
        "#Data Cleaning Action:Dropping\n",
        "#Explanation:dropped the columns since they had data which was not necessary for the analysis\n",
        "mm.drop(['source','lat', 'lon',],axis=1,inplace=True)\n",
        "mm"
      ],
      "id": "hI-5Ge4PK0L-",
      "execution_count": null,
      "outputs": [
        {
          "output_type": "execute_result",
          "data": {
            "text/html": [
              "<div>\n",
              "<style scoped>\n",
              "    .dataframe tbody tr th:only-of-type {\n",
              "        vertical-align: middle;\n",
              "    }\n",
              "\n",
              "    .dataframe tbody tr th {\n",
              "        vertical-align: top;\n",
              "    }\n",
              "\n",
              "    .dataframe thead th {\n",
              "        text-align: right;\n",
              "    }\n",
              "</style>\n",
              "<table border=\"1\" class=\"dataframe\">\n",
              "  <thead>\n",
              "    <tr style=\"text-align: right;\">\n",
              "      <th></th>\n",
              "      <th>id</th>\n",
              "      <th>cause_of_death</th>\n",
              "      <th>region_origin</th>\n",
              "      <th>affected_nationality</th>\n",
              "      <th>missing</th>\n",
              "      <th>dead</th>\n",
              "      <th>incident_region</th>\n",
              "      <th>date</th>\n",
              "      <th>reliability</th>\n",
              "    </tr>\n",
              "  </thead>\n",
              "  <tbody>\n",
              "    <tr>\n",
              "      <th>0</th>\n",
              "      <td>1</td>\n",
              "      <td>Presumed drowning</td>\n",
              "      <td>Middle East</td>\n",
              "      <td>Iraq</td>\n",
              "      <td>1.0</td>\n",
              "      <td>1.0</td>\n",
              "      <td>Mediterranean</td>\n",
              "      <td>05/11/2015</td>\n",
              "      <td>Verified</td>\n",
              "    </tr>\n",
              "    <tr>\n",
              "      <th>1</th>\n",
              "      <td>3</td>\n",
              "      <td>Fell from train</td>\n",
              "      <td>Central America &amp; Mexico</td>\n",
              "      <td>Honduras</td>\n",
              "      <td>NaN</td>\n",
              "      <td>1.0</td>\n",
              "      <td>Central America incl. Mexico</td>\n",
              "      <td>03/11/2015</td>\n",
              "      <td>Partially Verified</td>\n",
              "    </tr>\n",
              "    <tr>\n",
              "      <th>2</th>\n",
              "      <td>4</td>\n",
              "      <td>Presumed drowning</td>\n",
              "      <td>Middle East</td>\n",
              "      <td>NaN</td>\n",
              "      <td>NaN</td>\n",
              "      <td>1.0</td>\n",
              "      <td>Mediterranean</td>\n",
              "      <td>03/11/2015</td>\n",
              "      <td>Verified</td>\n",
              "    </tr>\n",
              "    <tr>\n",
              "      <th>3</th>\n",
              "      <td>6</td>\n",
              "      <td>Drowning</td>\n",
              "      <td>MENA</td>\n",
              "      <td>NaN</td>\n",
              "      <td>6.0</td>\n",
              "      <td>4.0</td>\n",
              "      <td>Mediterranean</td>\n",
              "      <td>01/11/2015</td>\n",
              "      <td>Partially Verified</td>\n",
              "    </tr>\n",
              "    <tr>\n",
              "      <th>4</th>\n",
              "      <td>7</td>\n",
              "      <td>Vehicle accident</td>\n",
              "      <td>South East Asia</td>\n",
              "      <td>Cambodia</td>\n",
              "      <td>NaN</td>\n",
              "      <td>4.0</td>\n",
              "      <td>Southeast Asia</td>\n",
              "      <td>01/11/2015</td>\n",
              "      <td>Partially Verified</td>\n",
              "    </tr>\n",
              "    <tr>\n",
              "      <th>...</th>\n",
              "      <td>...</td>\n",
              "      <td>...</td>\n",
              "      <td>...</td>\n",
              "      <td>...</td>\n",
              "      <td>...</td>\n",
              "      <td>...</td>\n",
              "      <td>...</td>\n",
              "      <td>...</td>\n",
              "      <td>...</td>\n",
              "    </tr>\n",
              "    <tr>\n",
              "      <th>2415</th>\n",
              "      <td>184746</td>\n",
              "      <td>Drowning</td>\n",
              "      <td>Central America &amp; Mexico</td>\n",
              "      <td>NaN</td>\n",
              "      <td>NaN</td>\n",
              "      <td>1.0</td>\n",
              "      <td>U.S./Mexico Border</td>\n",
              "      <td>20/05/2017</td>\n",
              "      <td>Partially Verified</td>\n",
              "    </tr>\n",
              "    <tr>\n",
              "      <th>2416</th>\n",
              "      <td>184747</td>\n",
              "      <td>Train accident</td>\n",
              "      <td>Central America &amp; Mexico</td>\n",
              "      <td>Honduras</td>\n",
              "      <td>NaN</td>\n",
              "      <td>1.0</td>\n",
              "      <td>U.S./Mexico Border</td>\n",
              "      <td>26/05/2017</td>\n",
              "      <td>Partially Verified</td>\n",
              "    </tr>\n",
              "    <tr>\n",
              "      <th>2417</th>\n",
              "      <td>184748</td>\n",
              "      <td>NaN</td>\n",
              "      <td>Central America &amp; Mexico</td>\n",
              "      <td>Honduras</td>\n",
              "      <td>NaN</td>\n",
              "      <td>1.0</td>\n",
              "      <td>U.S./Mexico Border</td>\n",
              "      <td>27/05/2017</td>\n",
              "      <td>Partially Verified</td>\n",
              "    </tr>\n",
              "    <tr>\n",
              "      <th>2418</th>\n",
              "      <td>184749</td>\n",
              "      <td>Train accident</td>\n",
              "      <td>Central America &amp; Mexico</td>\n",
              "      <td>NaN</td>\n",
              "      <td>NaN</td>\n",
              "      <td>1.0</td>\n",
              "      <td>Central America incl. Mexico</td>\n",
              "      <td>29/05/2017</td>\n",
              "      <td>Partially Verified</td>\n",
              "    </tr>\n",
              "    <tr>\n",
              "      <th>2419</th>\n",
              "      <td>184750</td>\n",
              "      <td>Dehydration</td>\n",
              "      <td>Sub-Saharan Africa</td>\n",
              "      <td>Ghana, Nigeria</td>\n",
              "      <td>NaN</td>\n",
              "      <td>44.0</td>\n",
              "      <td>North Africa</td>\n",
              "      <td>31/05/2017</td>\n",
              "      <td>Verified</td>\n",
              "    </tr>\n",
              "  </tbody>\n",
              "</table>\n",
              "<p>2420 rows × 9 columns</p>\n",
              "</div>"
            ],
            "text/plain": [
              "          id     cause_of_death  ...        date         reliability\n",
              "0          1  Presumed drowning  ...  05/11/2015            Verified\n",
              "1          3    Fell from train  ...  03/11/2015  Partially Verified\n",
              "2          4  Presumed drowning  ...  03/11/2015            Verified\n",
              "3          6           Drowning  ...  01/11/2015  Partially Verified\n",
              "4          7   Vehicle accident  ...  01/11/2015  Partially Verified\n",
              "...      ...                ...  ...         ...                 ...\n",
              "2415  184746           Drowning  ...  20/05/2017  Partially Verified\n",
              "2416  184747     Train accident  ...  26/05/2017  Partially Verified\n",
              "2417  184748                NaN  ...  27/05/2017  Partially Verified\n",
              "2418  184749     Train accident  ...  29/05/2017  Partially Verified\n",
              "2419  184750        Dehydration  ...  31/05/2017            Verified\n",
              "\n",
              "[2420 rows x 9 columns]"
            ]
          },
          "metadata": {},
          "execution_count": 191
        }
      ]
    },
    {
      "cell_type": "code",
      "metadata": {
        "colab": {
          "base_uri": "https://localhost:8080/"
        },
        "id": "Cmcsf-O7l-lU",
        "outputId": "64df9fe7-9f83-4ff1-c49b-9be3aa2fe99c"
      },
      "source": [
        "mm.shape"
      ],
      "id": "Cmcsf-O7l-lU",
      "execution_count": null,
      "outputs": [
        {
          "output_type": "execute_result",
          "data": {
            "text/plain": [
              "(2420, 9)"
            ]
          },
          "metadata": {},
          "execution_count": 192
        }
      ]
    },
    {
      "cell_type": "markdown",
      "metadata": {
        "id": "WYN6NNmbl4Of"
      },
      "source": [
        "We have 9 columns after dropping the 3 irrelevant ones. We dropped the columns since they were not required in our analysis."
      ],
      "id": "WYN6NNmbl4Of"
    },
    {
      "cell_type": "code",
      "metadata": {
        "id": "pBlfKRlXW2fr"
      },
      "source": [
        "#importing the library\n",
        "import matplotlib.pyplot as plt\n",
        "#visualising outliers using boxplot"
      ],
      "id": "pBlfKRlXW2fr",
      "execution_count": null,
      "outputs": []
    },
    {
      "cell_type": "code",
      "metadata": {
        "colab": {
          "base_uri": "https://localhost:8080/",
          "height": 281
        },
        "id": "KU73y3lZoUAF",
        "outputId": "3d178c8d-0703-49b9-a707-04ca06afcadf"
      },
      "source": [
        "#Procedure 2: Outliers\n",
        "#Data Cleaning Action:Checking for outliers on the 'missing'\n",
        "#Explanation: We will check for outliers on the required columns separately\n",
        "mm.boxplot(column =['missing'], grid = False) \n",
        "plt.title('Missing_migrants')\n",
        "plt.show()"
      ],
      "id": "KU73y3lZoUAF",
      "execution_count": null,
      "outputs": [
        {
          "output_type": "display_data",
          "data": {
            "image/png": "[encoded data removed]",
            "text/plain": [
              "<Figure size 432x288 with 1 Axes>"
            ]
          },
          "metadata": {
            "needs_background": "light"
          }
        }
      ]
    },
    {
      "cell_type": "markdown",
      "metadata": {
        "id": "ZuCtYWU6r8q6"
      },
      "source": [
        "There are few outliers but we will keep them because they are critical information which can't be ignored"
      ],
      "id": "ZuCtYWU6r8q6"
    },
    {
      "cell_type": "code",
      "metadata": {
        "colab": {
          "base_uri": "https://localhost:8080/",
          "height": 281
        },
        "id": "RPm_yb_oq-bQ",
        "outputId": "20c5869c-b273-41ca-8a26-4f20fb55b90d"
      },
      "source": [
        "#Procedure 2: Outliers\n",
        "#Data Cleaning Action:Checking for outliers on the 'dead' column\n",
        "mm.boxplot(column =['dead'], grid = False) \n",
        "plt.title('Dead_migrants')\n",
        "plt.show()"
      ],
      "id": "RPm_yb_oq-bQ",
      "execution_count": null,
      "outputs": [
        {
          "output_type": "display_data",
          "data": {
            "image/png": "[encoded data removed]",
            "text/plain": [
              "<Figure size 432x288 with 1 Axes>"
            ]
          },
          "metadata": {
            "needs_background": "light"
          }
        }
      ]
    },
    {
      "cell_type": "markdown",
      "metadata": {
        "id": "10X9xt9hrnkE"
      },
      "source": [
        "There are outliers but we will keep them because they are critical information which can't be ignored"
      ],
      "id": "10X9xt9hrnkE"
    },
    {
      "cell_type": "markdown",
      "metadata": {
        "id": "8DM4zB5GdKtC"
      },
      "source": [
        "## Accuracy"
      ],
      "id": "8DM4zB5GdKtC"
    },
    {
      "cell_type": "code",
      "metadata": {
        "id": "QDB1Ew32K1gY"
      },
      "source": [
        "#Procedure 1: None\n",
        "#Data Cleaning Action: None\n",
        "#Explanation:None"
      ],
      "id": "QDB1Ew32K1gY",
      "execution_count": null,
      "outputs": []
    },
    {
      "cell_type": "markdown",
      "metadata": {
        "id": "feDA8C6qKi_w"
      },
      "source": [
        "*COMPLETENESS*"
      ],
      "id": "feDA8C6qKi_w"
    },
    {
      "cell_type": "code",
      "metadata": {
        "id": "hBWLehkjK3Fu",
        "colab": {
          "base_uri": "https://localhost:8080/"
        },
        "outputId": "8656cc74-147b-4c4d-d416-636b69a87312"
      },
      "source": [
        "#Procedure 1: Missing values\n",
        "#Data Cleaning Action: Counting\n",
        "#Explanation:counting missing values\n",
        "mm.isnull().sum()"
      ],
      "id": "hBWLehkjK3Fu",
      "execution_count": null,
      "outputs": [
        {
          "output_type": "execute_result",
          "data": {
            "text/plain": [
              "id                         0\n",
              "cause_of_death           203\n",
              "region_origin            443\n",
              "affected_nationality    1575\n",
              "missing                 2149\n",
              "dead                     102\n",
              "incident_region           10\n",
              "date                       9\n",
              "reliability              324\n",
              "dtype: int64"
            ]
          },
          "metadata": {},
          "execution_count": 197
        }
      ]
    },
    {
      "cell_type": "code",
      "metadata": {
        "colab": {
          "base_uri": "https://localhost:8080/"
        },
        "id": "LuACDODYXB3D",
        "outputId": "479bee50-7812-4368-ddc6-c7e0f12a4744"
      },
      "source": [
        "#Procedure 2: Missing values\n",
        "#Data Cleaning Action: Checking percentage of the missing values\n",
        "mm.isna().mean().round(4) * 100"
      ],
      "id": "LuACDODYXB3D",
      "execution_count": null,
      "outputs": [
        {
          "output_type": "execute_result",
          "data": {
            "text/plain": [
              "id                       0.00\n",
              "cause_of_death           8.39\n",
              "region_origin           18.31\n",
              "affected_nationality    65.08\n",
              "missing                 88.80\n",
              "dead                     4.21\n",
              "incident_region          0.41\n",
              "date                     0.37\n",
              "reliability             13.39\n",
              "dtype: float64"
            ]
          },
          "metadata": {},
          "execution_count": 198
        }
      ]
    },
    {
      "cell_type": "markdown",
      "metadata": {
        "id": "NVjSZZUKsLmt"
      },
      "source": [
        "Each column has missing values apart from the id column."
      ],
      "id": "NVjSZZUKsLmt"
    },
    {
      "cell_type": "code",
      "metadata": {
        "colab": {
          "base_uri": "https://localhost:8080/",
          "height": 417
        },
        "id": "f7Y9ZdHjsWbn",
        "outputId": "faad775d-b414-41cf-b412-857922dbcecd"
      },
      "source": [
        "#Procedure 3: Missing values(missing and dead columns)\n",
        "#Data Cleaning Action: Replacing\n",
        "#Explanation:We replaced the missing values with 0\n",
        "missing_value=0\n",
        "mm['missing'].fillna(missing_value,inplace=True)\n",
        "dead_value=0\n",
        "mm['dead'].fillna(dead_value,inplace=True)\n",
        "mm"
      ],
      "id": "f7Y9ZdHjsWbn",
      "execution_count": null,
      "outputs": [
        {
          "output_type": "execute_result",
          "data": {
            "text/html": [
              "<div>\n",
              "<style scoped>\n",
              "    .dataframe tbody tr th:only-of-type {\n",
              "        vertical-align: middle;\n",
              "    }\n",
              "\n",
              "    .dataframe tbody tr th {\n",
              "        vertical-align: top;\n",
              "    }\n",
              "\n",
              "    .dataframe thead th {\n",
              "        text-align: right;\n",
              "    }\n",
              "</style>\n",
              "<table border=\"1\" class=\"dataframe\">\n",
              "  <thead>\n",
              "    <tr style=\"text-align: right;\">\n",
              "      <th></th>\n",
              "      <th>id</th>\n",
              "      <th>cause_of_death</th>\n",
              "      <th>region_origin</th>\n",
              "      <th>affected_nationality</th>\n",
              "      <th>missing</th>\n",
              "      <th>dead</th>\n",
              "      <th>incident_region</th>\n",
              "      <th>date</th>\n",
              "      <th>reliability</th>\n",
              "    </tr>\n",
              "  </thead>\n",
              "  <tbody>\n",
              "    <tr>\n",
              "      <th>0</th>\n",
              "      <td>1</td>\n",
              "      <td>Presumed drowning</td>\n",
              "      <td>Middle East</td>\n",
              "      <td>Iraq</td>\n",
              "      <td>1.0</td>\n",
              "      <td>1.0</td>\n",
              "      <td>Mediterranean</td>\n",
              "      <td>05/11/2015</td>\n",
              "      <td>Verified</td>\n",
              "    </tr>\n",
              "    <tr>\n",
              "      <th>1</th>\n",
              "      <td>3</td>\n",
              "      <td>Fell from train</td>\n",
              "      <td>Central America &amp; Mexico</td>\n",
              "      <td>Honduras</td>\n",
              "      <td>0.0</td>\n",
              "      <td>1.0</td>\n",
              "      <td>Central America incl. Mexico</td>\n",
              "      <td>03/11/2015</td>\n",
              "      <td>Partially Verified</td>\n",
              "    </tr>\n",
              "    <tr>\n",
              "      <th>2</th>\n",
              "      <td>4</td>\n",
              "      <td>Presumed drowning</td>\n",
              "      <td>Middle East</td>\n",
              "      <td>NaN</td>\n",
              "      <td>0.0</td>\n",
              "      <td>1.0</td>\n",
              "      <td>Mediterranean</td>\n",
              "      <td>03/11/2015</td>\n",
              "      <td>Verified</td>\n",
              "    </tr>\n",
              "    <tr>\n",
              "      <th>3</th>\n",
              "      <td>6</td>\n",
              "      <td>Drowning</td>\n",
              "      <td>MENA</td>\n",
              "      <td>NaN</td>\n",
              "      <td>6.0</td>\n",
              "      <td>4.0</td>\n",
              "      <td>Mediterranean</td>\n",
              "      <td>01/11/2015</td>\n",
              "      <td>Partially Verified</td>\n",
              "    </tr>\n",
              "    <tr>\n",
              "      <th>4</th>\n",
              "      <td>7</td>\n",
              "      <td>Vehicle accident</td>\n",
              "      <td>South East Asia</td>\n",
              "      <td>Cambodia</td>\n",
              "      <td>0.0</td>\n",
              "      <td>4.0</td>\n",
              "      <td>Southeast Asia</td>\n",
              "      <td>01/11/2015</td>\n",
              "      <td>Partially Verified</td>\n",
              "    </tr>\n",
              "    <tr>\n",
              "      <th>...</th>\n",
              "      <td>...</td>\n",
              "      <td>...</td>\n",
              "      <td>...</td>\n",
              "      <td>...</td>\n",
              "      <td>...</td>\n",
              "      <td>...</td>\n",
              "      <td>...</td>\n",
              "      <td>...</td>\n",
              "      <td>...</td>\n",
              "    </tr>\n",
              "    <tr>\n",
              "      <th>2415</th>\n",
              "      <td>184746</td>\n",
              "      <td>Drowning</td>\n",
              "      <td>Central America &amp; Mexico</td>\n",
              "      <td>NaN</td>\n",
              "      <td>0.0</td>\n",
              "      <td>1.0</td>\n",
              "      <td>U.S./Mexico Border</td>\n",
              "      <td>20/05/2017</td>\n",
              "      <td>Partially Verified</td>\n",
              "    </tr>\n",
              "    <tr>\n",
              "      <th>2416</th>\n",
              "      <td>184747</td>\n",
              "      <td>Train accident</td>\n",
              "      <td>Central America &amp; Mexico</td>\n",
              "      <td>Honduras</td>\n",
              "      <td>0.0</td>\n",
              "      <td>1.0</td>\n",
              "      <td>U.S./Mexico Border</td>\n",
              "      <td>26/05/2017</td>\n",
              "      <td>Partially Verified</td>\n",
              "    </tr>\n",
              "    <tr>\n",
              "      <th>2417</th>\n",
              "      <td>184748</td>\n",
              "      <td>NaN</td>\n",
              "      <td>Central America &amp; Mexico</td>\n",
              "      <td>Honduras</td>\n",
              "      <td>0.0</td>\n",
              "      <td>1.0</td>\n",
              "      <td>U.S./Mexico Border</td>\n",
              "      <td>27/05/2017</td>\n",
              "      <td>Partially Verified</td>\n",
              "    </tr>\n",
              "    <tr>\n",
              "      <th>2418</th>\n",
              "      <td>184749</td>\n",
              "      <td>Train accident</td>\n",
              "      <td>Central America &amp; Mexico</td>\n",
              "      <td>NaN</td>\n",
              "      <td>0.0</td>\n",
              "      <td>1.0</td>\n",
              "      <td>Central America incl. Mexico</td>\n",
              "      <td>29/05/2017</td>\n",
              "      <td>Partially Verified</td>\n",
              "    </tr>\n",
              "    <tr>\n",
              "      <th>2419</th>\n",
              "      <td>184750</td>\n",
              "      <td>Dehydration</td>\n",
              "      <td>Sub-Saharan Africa</td>\n",
              "      <td>Ghana, Nigeria</td>\n",
              "      <td>0.0</td>\n",
              "      <td>44.0</td>\n",
              "      <td>North Africa</td>\n",
              "      <td>31/05/2017</td>\n",
              "      <td>Verified</td>\n",
              "    </tr>\n",
              "  </tbody>\n",
              "</table>\n",
              "<p>2420 rows × 9 columns</p>\n",
              "</div>"
            ],
            "text/plain": [
              "          id     cause_of_death  ...        date         reliability\n",
              "0          1  Presumed drowning  ...  05/11/2015            Verified\n",
              "1          3    Fell from train  ...  03/11/2015  Partially Verified\n",
              "2          4  Presumed drowning  ...  03/11/2015            Verified\n",
              "3          6           Drowning  ...  01/11/2015  Partially Verified\n",
              "4          7   Vehicle accident  ...  01/11/2015  Partially Verified\n",
              "...      ...                ...  ...         ...                 ...\n",
              "2415  184746           Drowning  ...  20/05/2017  Partially Verified\n",
              "2416  184747     Train accident  ...  26/05/2017  Partially Verified\n",
              "2417  184748                NaN  ...  27/05/2017  Partially Verified\n",
              "2418  184749     Train accident  ...  29/05/2017  Partially Verified\n",
              "2419  184750        Dehydration  ...  31/05/2017            Verified\n",
              "\n",
              "[2420 rows x 9 columns]"
            ]
          },
          "metadata": {},
          "execution_count": 199
        }
      ]
    },
    {
      "cell_type": "markdown",
      "metadata": {
        "id": "_9Tc3BmvXbub"
      },
      "source": [
        "We replaced the missing values from both the missing and dead \n",
        "columns with 0 rather than dropping them or replacing them with the mean/median because of how crucial the data is for the research. We cannot assume/force the no of fatalities that take place because this will hinder the sincerity of the results."
      ],
      "id": "_9Tc3BmvXbub"
    },
    {
      "cell_type": "code",
      "metadata": {
        "colab": {
          "base_uri": "https://localhost:8080/"
        },
        "id": "8gMds_96XTFT",
        "outputId": "d4091e4f-a7b9-4cb9-f559-b11671ad4cea"
      },
      "source": [
        "#Procedure 4: Missing values(missing and dead columns)\n",
        "#Data Cleaning Action: Counter- Checking\n",
        "#Explanation:We check if the missing values from both columns have \n",
        "# been replaced\n",
        "mm.isnull().sum()"
      ],
      "id": "8gMds_96XTFT",
      "execution_count": null,
      "outputs": [
        {
          "output_type": "execute_result",
          "data": {
            "text/plain": [
              "id                         0\n",
              "cause_of_death           203\n",
              "region_origin            443\n",
              "affected_nationality    1575\n",
              "missing                    0\n",
              "dead                       0\n",
              "incident_region           10\n",
              "date                       9\n",
              "reliability              324\n",
              "dtype: int64"
            ]
          },
          "metadata": {},
          "execution_count": 200
        }
      ]
    },
    {
      "cell_type": "markdown",
      "metadata": {
        "id": "SxqwVsuhXnJ9"
      },
      "source": [
        "The missing values in the respective columns have been replaced."
      ],
      "id": "SxqwVsuhXnJ9"
    },
    {
      "cell_type": "code",
      "metadata": {
        "colab": {
          "base_uri": "https://localhost:8080/",
          "height": 1000
        },
        "id": "qYXwWEFOYJx6",
        "outputId": "1e80979b-3704-4d11-cb8c-ea01ed69b0a2"
      },
      "source": [
        "#Procedure 5: Missing values(all columns apart from the date column)\n",
        "#Data Cleaning Action: Replacing the missing values(object type)\n",
        "# with unknown\n",
        "#Explanation:We replaced the missing values with unknown\n",
        "nulls='unknown'\n",
        "mm['cause_of_death'].fillna(nulls,inplace=True)\n",
        "mm['region_origin'].fillna(nulls,inplace=True)\n",
        "mm['affected_nationality'].fillna(nulls,inplace=True)\n",
        "mm['incident_region'].fillna(nulls,inplace=True)\n",
        "mm['reliability'].fillna(nulls,inplace=True)\n",
        "mm.head(30)"
      ],
      "id": "qYXwWEFOYJx6",
      "execution_count": null,
      "outputs": [
        {
          "output_type": "execute_result",
          "data": {
            "text/html": [
              "<div>\n",
              "<style scoped>\n",
              "    .dataframe tbody tr th:only-of-type {\n",
              "        vertical-align: middle;\n",
              "    }\n",
              "\n",
              "    .dataframe tbody tr th {\n",
              "        vertical-align: top;\n",
              "    }\n",
              "\n",
              "    .dataframe thead th {\n",
              "        text-align: right;\n",
              "    }\n",
              "</style>\n",
              "<table border=\"1\" class=\"dataframe\">\n",
              "  <thead>\n",
              "    <tr style=\"text-align: right;\">\n",
              "      <th></th>\n",
              "      <th>id</th>\n",
              "      <th>cause_of_death</th>\n",
              "      <th>region_origin</th>\n",
              "      <th>affected_nationality</th>\n",
              "      <th>missing</th>\n",
              "      <th>dead</th>\n",
              "      <th>incident_region</th>\n",
              "      <th>date</th>\n",
              "      <th>reliability</th>\n",
              "    </tr>\n",
              "  </thead>\n",
              "  <tbody>\n",
              "    <tr>\n",
              "      <th>0</th>\n",
              "      <td>1</td>\n",
              "      <td>Presumed drowning</td>\n",
              "      <td>Middle East</td>\n",
              "      <td>Iraq</td>\n",
              "      <td>1.0</td>\n",
              "      <td>1.0</td>\n",
              "      <td>Mediterranean</td>\n",
              "      <td>05/11/2015</td>\n",
              "      <td>Verified</td>\n",
              "    </tr>\n",
              "    <tr>\n",
              "      <th>1</th>\n",
              "      <td>3</td>\n",
              "      <td>Fell from train</td>\n",
              "      <td>Central America &amp; Mexico</td>\n",
              "      <td>Honduras</td>\n",
              "      <td>0.0</td>\n",
              "      <td>1.0</td>\n",
              "      <td>Central America incl. Mexico</td>\n",
              "      <td>03/11/2015</td>\n",
              "      <td>Partially Verified</td>\n",
              "    </tr>\n",
              "    <tr>\n",
              "      <th>2</th>\n",
              "      <td>4</td>\n",
              "      <td>Presumed drowning</td>\n",
              "      <td>Middle East</td>\n",
              "      <td>unknown</td>\n",
              "      <td>0.0</td>\n",
              "      <td>1.0</td>\n",
              "      <td>Mediterranean</td>\n",
              "      <td>03/11/2015</td>\n",
              "      <td>Verified</td>\n",
              "    </tr>\n",
              "    <tr>\n",
              "      <th>3</th>\n",
              "      <td>6</td>\n",
              "      <td>Drowning</td>\n",
              "      <td>MENA</td>\n",
              "      <td>unknown</td>\n",
              "      <td>6.0</td>\n",
              "      <td>4.0</td>\n",
              "      <td>Mediterranean</td>\n",
              "      <td>01/11/2015</td>\n",
              "      <td>Partially Verified</td>\n",
              "    </tr>\n",
              "    <tr>\n",
              "      <th>4</th>\n",
              "      <td>7</td>\n",
              "      <td>Vehicle accident</td>\n",
              "      <td>South East Asia</td>\n",
              "      <td>Cambodia</td>\n",
              "      <td>0.0</td>\n",
              "      <td>4.0</td>\n",
              "      <td>Southeast Asia</td>\n",
              "      <td>01/11/2015</td>\n",
              "      <td>Partially Verified</td>\n",
              "    </tr>\n",
              "    <tr>\n",
              "      <th>5</th>\n",
              "      <td>8</td>\n",
              "      <td>Drowning</td>\n",
              "      <td>MENA</td>\n",
              "      <td>unknown</td>\n",
              "      <td>0.0</td>\n",
              "      <td>11.0</td>\n",
              "      <td>Mediterranean</td>\n",
              "      <td>01/11/2015</td>\n",
              "      <td>Verified</td>\n",
              "    </tr>\n",
              "    <tr>\n",
              "      <th>6</th>\n",
              "      <td>9</td>\n",
              "      <td>Drowning</td>\n",
              "      <td>MENA</td>\n",
              "      <td>unknown</td>\n",
              "      <td>0.0</td>\n",
              "      <td>1.0</td>\n",
              "      <td>Mediterranean</td>\n",
              "      <td>01/11/2015</td>\n",
              "      <td>Verified</td>\n",
              "    </tr>\n",
              "    <tr>\n",
              "      <th>7</th>\n",
              "      <td>10</td>\n",
              "      <td>Drowning</td>\n",
              "      <td>MENA</td>\n",
              "      <td>unknown</td>\n",
              "      <td>0.0</td>\n",
              "      <td>1.0</td>\n",
              "      <td>Mediterranean</td>\n",
              "      <td>01/11/2015</td>\n",
              "      <td>Verified</td>\n",
              "    </tr>\n",
              "    <tr>\n",
              "      <th>8</th>\n",
              "      <td>11</td>\n",
              "      <td>Drowning</td>\n",
              "      <td>unknown</td>\n",
              "      <td>unknown</td>\n",
              "      <td>0.0</td>\n",
              "      <td>3.0</td>\n",
              "      <td>Mediterranean</td>\n",
              "      <td>28/10/2015</td>\n",
              "      <td>Partially Verified</td>\n",
              "    </tr>\n",
              "    <tr>\n",
              "      <th>9</th>\n",
              "      <td>12</td>\n",
              "      <td>Died of unknown cause in hospital shortly afte...</td>\n",
              "      <td>MENA</td>\n",
              "      <td>Syria</td>\n",
              "      <td>0.0</td>\n",
              "      <td>1.0</td>\n",
              "      <td>Mediterranean</td>\n",
              "      <td>28/10/2015</td>\n",
              "      <td>Verified</td>\n",
              "    </tr>\n",
              "    <tr>\n",
              "      <th>10</th>\n",
              "      <td>13</td>\n",
              "      <td>Drowning</td>\n",
              "      <td>MENA</td>\n",
              "      <td>Iran</td>\n",
              "      <td>0.0</td>\n",
              "      <td>1.0</td>\n",
              "      <td>Mediterranean</td>\n",
              "      <td>26/10/2015</td>\n",
              "      <td>Verified</td>\n",
              "    </tr>\n",
              "    <tr>\n",
              "      <th>11</th>\n",
              "      <td>14</td>\n",
              "      <td>Presumed drowning</td>\n",
              "      <td>South Asia</td>\n",
              "      <td>Afghanistan</td>\n",
              "      <td>7.0</td>\n",
              "      <td>3.0</td>\n",
              "      <td>Mediterranean</td>\n",
              "      <td>23/10/2015</td>\n",
              "      <td>Verified</td>\n",
              "    </tr>\n",
              "    <tr>\n",
              "      <th>12</th>\n",
              "      <td>15</td>\n",
              "      <td>Presumed drowning</td>\n",
              "      <td>Middle East/ South Asia</td>\n",
              "      <td>unknown</td>\n",
              "      <td>0.0</td>\n",
              "      <td>1.0</td>\n",
              "      <td>Mediterranean</td>\n",
              "      <td>01/11/2015</td>\n",
              "      <td>Verified</td>\n",
              "    </tr>\n",
              "    <tr>\n",
              "      <th>13</th>\n",
              "      <td>16</td>\n",
              "      <td>Drowning</td>\n",
              "      <td>unknown</td>\n",
              "      <td>Afghanistan</td>\n",
              "      <td>0.0</td>\n",
              "      <td>4.0</td>\n",
              "      <td>Mediterranean</td>\n",
              "      <td>31/10/2015</td>\n",
              "      <td>Partially Verified</td>\n",
              "    </tr>\n",
              "    <tr>\n",
              "      <th>14</th>\n",
              "      <td>17</td>\n",
              "      <td>Exposure. Died upon entry to refugee camp.</td>\n",
              "      <td>South Asia</td>\n",
              "      <td>Afghan</td>\n",
              "      <td>0.0</td>\n",
              "      <td>1.0</td>\n",
              "      <td>Europe</td>\n",
              "      <td>31/10/2015</td>\n",
              "      <td>Partially Verified</td>\n",
              "    </tr>\n",
              "    <tr>\n",
              "      <th>15</th>\n",
              "      <td>18</td>\n",
              "      <td>Drowning</td>\n",
              "      <td>unknown</td>\n",
              "      <td>unknown</td>\n",
              "      <td>0.0</td>\n",
              "      <td>1.0</td>\n",
              "      <td>Mediterranean</td>\n",
              "      <td>30/10/2015</td>\n",
              "      <td>Partially Verified</td>\n",
              "    </tr>\n",
              "    <tr>\n",
              "      <th>16</th>\n",
              "      <td>19</td>\n",
              "      <td>Drowning</td>\n",
              "      <td>Sub-Saharan Africa</td>\n",
              "      <td>Likely Comorian</td>\n",
              "      <td>0.0</td>\n",
              "      <td>8.0</td>\n",
              "      <td>Sub-Saharan Africa</td>\n",
              "      <td>30/10/2015</td>\n",
              "      <td>Partially Verified</td>\n",
              "    </tr>\n",
              "    <tr>\n",
              "      <th>17</th>\n",
              "      <td>20</td>\n",
              "      <td>Drowning</td>\n",
              "      <td>Middle East/ South Asia</td>\n",
              "      <td>unknown</td>\n",
              "      <td>0.0</td>\n",
              "      <td>1.0</td>\n",
              "      <td>Mediterranean</td>\n",
              "      <td>30/10/2015</td>\n",
              "      <td>Verified</td>\n",
              "    </tr>\n",
              "    <tr>\n",
              "      <th>18</th>\n",
              "      <td>21</td>\n",
              "      <td>Drowning</td>\n",
              "      <td>unknown</td>\n",
              "      <td>unknown</td>\n",
              "      <td>32.0</td>\n",
              "      <td>7.0</td>\n",
              "      <td>Mediterranean</td>\n",
              "      <td>29/10/2015</td>\n",
              "      <td>Verified</td>\n",
              "    </tr>\n",
              "    <tr>\n",
              "      <th>19</th>\n",
              "      <td>22</td>\n",
              "      <td>Drowning</td>\n",
              "      <td>Middle East/ South Asia</td>\n",
              "      <td>unknown</td>\n",
              "      <td>4.0</td>\n",
              "      <td>3.0</td>\n",
              "      <td>Mediterranean</td>\n",
              "      <td>29/10/2015</td>\n",
              "      <td>Partially Verified</td>\n",
              "    </tr>\n",
              "    <tr>\n",
              "      <th>20</th>\n",
              "      <td>23</td>\n",
              "      <td>Drowning</td>\n",
              "      <td>Middle East/ South Asia</td>\n",
              "      <td>unknown</td>\n",
              "      <td>2.0</td>\n",
              "      <td>0.0</td>\n",
              "      <td>Mediterranean</td>\n",
              "      <td>29/10/2015</td>\n",
              "      <td>Partially Verified</td>\n",
              "    </tr>\n",
              "    <tr>\n",
              "      <th>21</th>\n",
              "      <td>24</td>\n",
              "      <td>unknown</td>\n",
              "      <td>unknown</td>\n",
              "      <td>unknown</td>\n",
              "      <td>0.0</td>\n",
              "      <td>8.0</td>\n",
              "      <td>Mediterranean</td>\n",
              "      <td>20/10/2015</td>\n",
              "      <td>Verified</td>\n",
              "    </tr>\n",
              "    <tr>\n",
              "      <th>22</th>\n",
              "      <td>25</td>\n",
              "      <td>Drowning</td>\n",
              "      <td>unknown</td>\n",
              "      <td>unknown</td>\n",
              "      <td>0.0</td>\n",
              "      <td>1.0</td>\n",
              "      <td>Mediterranean</td>\n",
              "      <td>02/10/2015</td>\n",
              "      <td>Verified</td>\n",
              "    </tr>\n",
              "    <tr>\n",
              "      <th>23</th>\n",
              "      <td>28</td>\n",
              "      <td>Drowning</td>\n",
              "      <td>Middle East/ South Asia</td>\n",
              "      <td>unknown</td>\n",
              "      <td>0.0</td>\n",
              "      <td>4.0</td>\n",
              "      <td>Mediterranean</td>\n",
              "      <td>29/10/2015</td>\n",
              "      <td>Partially Verified</td>\n",
              "    </tr>\n",
              "    <tr>\n",
              "      <th>24</th>\n",
              "      <td>29</td>\n",
              "      <td>Drowning</td>\n",
              "      <td>Middle East/ South Asia</td>\n",
              "      <td>unknown</td>\n",
              "      <td>0.0</td>\n",
              "      <td>2.0</td>\n",
              "      <td>Mediterranean</td>\n",
              "      <td>28/10/2015</td>\n",
              "      <td>Verified</td>\n",
              "    </tr>\n",
              "    <tr>\n",
              "      <th>25</th>\n",
              "      <td>30</td>\n",
              "      <td>Drowning</td>\n",
              "      <td>Middle East/ South Asia</td>\n",
              "      <td>unknown</td>\n",
              "      <td>1.0</td>\n",
              "      <td>3.0</td>\n",
              "      <td>Mediterranean</td>\n",
              "      <td>28/10/2015</td>\n",
              "      <td>Verified</td>\n",
              "    </tr>\n",
              "    <tr>\n",
              "      <th>26</th>\n",
              "      <td>31</td>\n",
              "      <td>Drowning</td>\n",
              "      <td>unknown</td>\n",
              "      <td>Afghanistan</td>\n",
              "      <td>0.0</td>\n",
              "      <td>3.0</td>\n",
              "      <td>Mediterranean</td>\n",
              "      <td>28/10/2015</td>\n",
              "      <td>Partially Verified</td>\n",
              "    </tr>\n",
              "    <tr>\n",
              "      <th>27</th>\n",
              "      <td>32</td>\n",
              "      <td>Presumed drowning</td>\n",
              "      <td>Middle East/ South Asia</td>\n",
              "      <td>unknown</td>\n",
              "      <td>0.0</td>\n",
              "      <td>19.0</td>\n",
              "      <td>Mediterranean</td>\n",
              "      <td>28/10/2015</td>\n",
              "      <td>Partially Verified</td>\n",
              "    </tr>\n",
              "    <tr>\n",
              "      <th>28</th>\n",
              "      <td>33</td>\n",
              "      <td>Presumed drowning</td>\n",
              "      <td>Middle East/ South Asia</td>\n",
              "      <td>unknown</td>\n",
              "      <td>0.0</td>\n",
              "      <td>1.0</td>\n",
              "      <td>Mediterranean</td>\n",
              "      <td>01/10/2015</td>\n",
              "      <td>Verified</td>\n",
              "    </tr>\n",
              "    <tr>\n",
              "      <th>29</th>\n",
              "      <td>34</td>\n",
              "      <td>Drowning</td>\n",
              "      <td>unknown</td>\n",
              "      <td>Afghanistan</td>\n",
              "      <td>0.0</td>\n",
              "      <td>1.0</td>\n",
              "      <td>Mediterranean</td>\n",
              "      <td>28/10/2015</td>\n",
              "      <td>Verified</td>\n",
              "    </tr>\n",
              "  </tbody>\n",
              "</table>\n",
              "</div>"
            ],
            "text/plain": [
              "    id  ...         reliability\n",
              "0    1  ...            Verified\n",
              "1    3  ...  Partially Verified\n",
              "2    4  ...            Verified\n",
              "3    6  ...  Partially Verified\n",
              "4    7  ...  Partially Verified\n",
              "5    8  ...            Verified\n",
              "6    9  ...            Verified\n",
              "7   10  ...            Verified\n",
              "8   11  ...  Partially Verified\n",
              "9   12  ...            Verified\n",
              "10  13  ...            Verified\n",
              "11  14  ...            Verified\n",
              "12  15  ...            Verified\n",
              "13  16  ...  Partially Verified\n",
              "14  17  ...  Partially Verified\n",
              "15  18  ...  Partially Verified\n",
              "16  19  ...  Partially Verified\n",
              "17  20  ...            Verified\n",
              "18  21  ...            Verified\n",
              "19  22  ...  Partially Verified\n",
              "20  23  ...  Partially Verified\n",
              "21  24  ...            Verified\n",
              "22  25  ...            Verified\n",
              "23  28  ...  Partially Verified\n",
              "24  29  ...            Verified\n",
              "25  30  ...            Verified\n",
              "26  31  ...  Partially Verified\n",
              "27  32  ...  Partially Verified\n",
              "28  33  ...            Verified\n",
              "29  34  ...            Verified\n",
              "\n",
              "[30 rows x 9 columns]"
            ]
          },
          "metadata": {},
          "execution_count": 201
        }
      ]
    },
    {
      "cell_type": "markdown",
      "metadata": {
        "id": "0ReNytnwYRTy"
      },
      "source": [
        "We cannot predict/guess what caused the death of a victim or what their nationality/region of origin might be without a proper investigation being done. Though a row has a missing column it may contain another column with critical information for the research."
      ],
      "id": "0ReNytnwYRTy"
    },
    {
      "cell_type": "code",
      "metadata": {
        "colab": {
          "base_uri": "https://localhost:8080/"
        },
        "id": "HimYiDVhYW-6",
        "outputId": "c2506059-03b3-4208-ba69-121aa9bd1955"
      },
      "source": [
        "#Procedure 5: Missing values\n",
        "#Data Cleaning Action: Counter- Checking\n",
        "#Explanation:We check if the missing values have been replaced\n",
        "mm.isnull().sum()"
      ],
      "id": "HimYiDVhYW-6",
      "execution_count": null,
      "outputs": [
        {
          "output_type": "execute_result",
          "data": {
            "text/plain": [
              "id                      0\n",
              "cause_of_death          0\n",
              "region_origin           0\n",
              "affected_nationality    0\n",
              "missing                 0\n",
              "dead                    0\n",
              "incident_region         0\n",
              "date                    9\n",
              "reliability             0\n",
              "dtype: int64"
            ]
          },
          "metadata": {},
          "execution_count": 202
        }
      ]
    },
    {
      "cell_type": "markdown",
      "metadata": {
        "id": "c4cjavMUYee0"
      },
      "source": [
        "The missing values have been replaced."
      ],
      "id": "c4cjavMUYee0"
    },
    {
      "cell_type": "markdown",
      "metadata": {
        "id": "RJ4nhTa-KosL"
      },
      "source": [
        "*CONSISTENCY*"
      ],
      "id": "RJ4nhTa-KosL"
    },
    {
      "cell_type": "code",
      "metadata": {
        "id": "8hNELHNkK6ri",
        "colab": {
          "base_uri": "https://localhost:8080/"
        },
        "outputId": "31052ef4-24a6-44b1-f111-95230b312302"
      },
      "source": [
        "#Procedure 1: Duplicates\n",
        "#Data Cleaning Action:Checking \n",
        "#Explanation:\n",
        "mm.duplicated().sum()"
      ],
      "id": "8hNELHNkK6ri",
      "execution_count": null,
      "outputs": [
        {
          "output_type": "execute_result",
          "data": {
            "text/plain": [
              "0"
            ]
          },
          "metadata": {},
          "execution_count": 203
        }
      ]
    },
    {
      "cell_type": "markdown",
      "metadata": {
        "id": "sI_LlMh3xs1I"
      },
      "source": [
        "No duplicates"
      ],
      "id": "sI_LlMh3xs1I"
    },
    {
      "cell_type": "markdown",
      "metadata": {
        "id": "iMMpu4AKKtTD"
      },
      "source": [
        "*UNIFORMITY*"
      ],
      "id": "iMMpu4AKKtTD"
    },
    {
      "cell_type": "code",
      "metadata": {
        "id": "zFFpMyfJZwI7",
        "colab": {
          "base_uri": "https://localhost:8080/"
        },
        "outputId": "b7f56d55-dfaa-4288-e314-8e698380fc15"
      },
      "source": [
        "#Procedure 1: Checking the length of unique values in the date column\n",
        "#Data Cleaning Action:None\n",
        "#Explanation: We used the len function \n",
        "len(mm['date'].unique()) "
      ],
      "id": "zFFpMyfJZwI7",
      "execution_count": null,
      "outputs": [
        {
          "output_type": "execute_result",
          "data": {
            "text/plain": [
              "835"
            ]
          },
          "metadata": {},
          "execution_count": 204
        }
      ]
    },
    {
      "cell_type": "code",
      "metadata": {
        "colab": {
          "base_uri": "https://localhost:8080/"
        },
        "id": "Gei4N4Okr1VB",
        "outputId": "47ebc337-c26a-4194-e473-4992f01dbfdf"
      },
      "source": [
        "#Procedure 2: converting the date column to date time format\n",
        "#Data Cleaning Action: Change from object type to date time\n",
        "#Explanation: Change from object type to date time\n",
        "mm['date'] = pd.to_datetime(mm['date'])\n",
        "mm['date'].head()"
      ],
      "id": "Gei4N4Okr1VB",
      "execution_count": null,
      "outputs": [
        {
          "output_type": "execute_result",
          "data": {
            "text/plain": [
              "0   2015-05-11\n",
              "1   2015-03-11\n",
              "2   2015-03-11\n",
              "3   2015-01-11\n",
              "4   2015-01-11\n",
              "Name: date, dtype: datetime64[ns]"
            ]
          },
          "metadata": {},
          "execution_count": 205
        }
      ]
    },
    {
      "cell_type": "markdown",
      "metadata": {
        "id": "JCl855fgspiM"
      },
      "source": [
        "date column data type was changed to datetime (YYYY-MM-DD)"
      ],
      "id": "JCl855fgspiM"
    },
    {
      "cell_type": "code",
      "metadata": {
        "colab": {
          "base_uri": "https://localhost:8080/"
        },
        "id": "sz7b26uxszNg",
        "outputId": "b71037dd-ce38-4e95-8dab-a1e3b8a439d4"
      },
      "source": [
        "#Procedure 3: Finding the first and last date entries \n",
        "#Data Cleaning Action: None\n",
        "#Explanation:Use min and max functions\n",
        "print (mm['date'].min())\n",
        "print (mm['date'].max())"
      ],
      "id": "sz7b26uxszNg",
      "execution_count": null,
      "outputs": [
        {
          "output_type": "stream",
          "name": "stdout",
          "text": [
            "2014-01-05 00:00:00\n",
            "2017-12-04 00:00:00\n"
          ]
        }
      ]
    },
    {
      "cell_type": "markdown",
      "metadata": {
        "id": "Op8ZtIZos9bh"
      },
      "source": [
        "The data contains a series of incident that took place between Jan-2014 and Dec-2017 (3 years)"
      ],
      "id": "Op8ZtIZos9bh"
    },
    {
      "cell_type": "code",
      "metadata": {
        "id": "opGH9D8dxXpI"
      },
      "source": [
        "#Procedure 4: Missing values(date column)\n",
        "#Data Cleaning Action:Replacing the missing values with 0\n",
        "#Explanation: None\n",
        "null=0\n",
        "mm['date'].fillna(null,inplace=True)"
      ],
      "id": "opGH9D8dxXpI",
      "execution_count": null,
      "outputs": []
    },
    {
      "cell_type": "markdown",
      "metadata": {
        "id": "7C-1528syB98"
      },
      "source": [
        "Replaced the null values in the date column with 0."
      ],
      "id": "7C-1528syB98"
    },
    {
      "cell_type": "code",
      "metadata": {
        "id": "F4SeZAN3xtE3",
        "colab": {
          "base_uri": "https://localhost:8080/"
        },
        "outputId": "659af4d7-a3bf-458e-c390-05416d22bfbb"
      },
      "source": [
        "#Procedure 5: Checking for missing values\n",
        "#Data Cleaning Action: Counting\n",
        "#Explanation: Using isna() and sum() function\n",
        "mm.isna().sum()"
      ],
      "id": "F4SeZAN3xtE3",
      "execution_count": null,
      "outputs": [
        {
          "output_type": "execute_result",
          "data": {
            "text/plain": [
              "id                      0\n",
              "cause_of_death          0\n",
              "region_origin           0\n",
              "affected_nationality    0\n",
              "missing                 0\n",
              "dead                    0\n",
              "incident_region         0\n",
              "date                    0\n",
              "reliability             0\n",
              "dtype: int64"
            ]
          },
          "metadata": {},
          "execution_count": 208
        }
      ]
    },
    {
      "cell_type": "markdown",
      "metadata": {
        "id": "AetTxhaEyQC8"
      },
      "source": [
        "There are no missing values."
      ],
      "id": "AetTxhaEyQC8"
    },
    {
      "cell_type": "markdown",
      "metadata": {
        "id": "px71fphIL5a-"
      },
      "source": [
        "# **Data Analysis**"
      ],
      "id": "px71fphIL5a-"
    },
    {
      "cell_type": "code",
      "metadata": {
        "id": "LL09QDRlZcMw",
        "colab": {
          "base_uri": "https://localhost:8080/"
        },
        "outputId": "dfbd9a3a-b32e-430c-e873-be7229f7b90c"
      },
      "source": [
        "mm.columns"
      ],
      "id": "LL09QDRlZcMw",
      "execution_count": null,
      "outputs": [
        {
          "output_type": "execute_result",
          "data": {
            "text/plain": [
              "Index(['id', 'cause_of_death', 'region_origin', 'affected_nationality',\n",
              "       'missing', 'dead', 'incident_region', 'date', 'reliability'],\n",
              "      dtype='object')"
            ]
          },
          "metadata": {},
          "execution_count": 209
        }
      ]
    },
    {
      "cell_type": "code",
      "metadata": {
        "id": "Zo8J7_2xdUXQ"
      },
      "source": [
        "# Importing the seaborn library as sns\n",
        "import seaborn as sns"
      ],
      "id": "Zo8J7_2xdUXQ",
      "execution_count": null,
      "outputs": []
    },
    {
      "cell_type": "code",
      "metadata": {
        "id": "DBKRM4mS5i4r"
      },
      "source": [
        "import matplotlib.pyplot as plt\n",
        "\n",
        "plt.close(\"all\")"
      ],
      "id": "DBKRM4mS5i4r",
      "execution_count": null,
      "outputs": []
    },
    {
      "cell_type": "markdown",
      "metadata": {
        "id": "onnW4CAPeYto"
      },
      "source": [
        "**1. What was the leading cause of death?**\n",
        "\n"
      ],
      "id": "onnW4CAPeYto"
    },
    {
      "cell_type": "code",
      "metadata": {
        "id": "L5A6qzoQbN2F",
        "colab": {
          "base_uri": "https://localhost:8080/",
          "height": 281
        },
        "outputId": "e99a200e-c646-483a-bc22-a47b148f3712"
      },
      "source": [
        "mm['cause_of_death'].value_counts().head(5).plot(kind = \"barh\", title = \"Reason for Death\");\n"
      ],
      "id": "L5A6qzoQbN2F",
      "execution_count": null,
      "outputs": [
        {
          "output_type": "display_data",
          "data": {
            "image/png": "[encoded data removed]",
            "text/plain": [
              "<Figure size 432x288 with 1 Axes>"
            ]
          },
          "metadata": {
            "needs_background": "light"
          }
        }
      ]
    },
    {
      "cell_type": "markdown",
      "metadata": {
        "id": "ghyJcgZ-Yt6X"
      },
      "source": [
        "From the graph, we can clearly see that drowning is the leading cause of death."
      ],
      "id": "ghyJcgZ-Yt6X"
    },
    {
      "cell_type": "markdown",
      "metadata": {
        "id": "25r8Cz5Eehqi"
      },
      "source": [
        "**2. Which migrant’s region of origin had the highest deaths?**"
      ],
      "id": "25r8Cz5Eehqi"
    },
    {
      "cell_type": "code",
      "metadata": {
        "id": "8L_dtnkPbjv1",
        "colab": {
          "base_uri": "https://localhost:8080/",
          "height": 172
        },
        "outputId": "4acf341a-3e2e-4729-c590-b93cd362b6c7"
      },
      "source": [
        "mm.groupby('region_origin')['dead'].sum().to_frame().sort_values(by='dead',ascending= False).head(3)"
      ],
      "id": "8L_dtnkPbjv1",
      "execution_count": null,
      "outputs": [
        {
          "output_type": "execute_result",
          "data": {
            "text/html": [
              "<div>\n",
              "<style scoped>\n",
              "    .dataframe tbody tr th:only-of-type {\n",
              "        vertical-align: middle;\n",
              "    }\n",
              "\n",
              "    .dataframe tbody tr th {\n",
              "        vertical-align: top;\n",
              "    }\n",
              "\n",
              "    .dataframe thead th {\n",
              "        text-align: right;\n",
              "    }\n",
              "</style>\n",
              "<table border=\"1\" class=\"dataframe\">\n",
              "  <thead>\n",
              "    <tr style=\"text-align: right;\">\n",
              "      <th></th>\n",
              "      <th>dead</th>\n",
              "    </tr>\n",
              "    <tr>\n",
              "      <th>region_origin</th>\n",
              "      <th></th>\n",
              "    </tr>\n",
              "  </thead>\n",
              "  <tbody>\n",
              "    <tr>\n",
              "      <th>unknown</th>\n",
              "      <td>2789.0</td>\n",
              "    </tr>\n",
              "    <tr>\n",
              "      <th>Horn of Africa (P)</th>\n",
              "      <td>1539.0</td>\n",
              "    </tr>\n",
              "    <tr>\n",
              "      <th>Sub-Saharan Africa</th>\n",
              "      <td>1378.0</td>\n",
              "    </tr>\n",
              "  </tbody>\n",
              "</table>\n",
              "</div>"
            ],
            "text/plain": [
              "                      dead\n",
              "region_origin             \n",
              "unknown             2789.0\n",
              "Horn of Africa (P)  1539.0\n",
              "Sub-Saharan Africa  1378.0"
            ]
          },
          "metadata": {},
          "execution_count": 239
        }
      ]
    },
    {
      "cell_type": "code",
      "metadata": {
        "colab": {
          "base_uri": "https://localhost:8080/",
          "height": 281
        },
        "id": "4Wyea45-_KAF",
        "outputId": "014a31d2-43a5-4b1b-97cd-62ff268ef58e"
      },
      "source": [
        "mm.groupby('region_origin')['dead'].sum().to_frame().plot(kind = \"barh\", title = \"Migrant Region and Deaths\");"
      ],
      "id": "4Wyea45-_KAF",
      "execution_count": null,
      "outputs": [
        {
          "output_type": "display_data",
          "data": {
            "image/png": "[encoded data removed]",
            "text/plain": [
              "<Figure size 432x288 with 1 Axes>"
            ]
          },
          "metadata": {
            "needs_background": "light"
          }
        }
      ]
    },
    {
      "cell_type": "markdown",
      "metadata": {
        "id": "6RWwJ-IdeOI1"
      },
      "source": [
        "The region of origin with the highest no. of dead people is unknown,\n",
        "then followed by presumed Horn of Africa region. "
      ],
      "id": "6RWwJ-IdeOI1"
    },
    {
      "cell_type": "markdown",
      "metadata": {
        "id": "OoFPxvAbbBUz"
      },
      "source": [
        "**3. Which migrant’s region of origin had the highest missing people?**"
      ],
      "id": "OoFPxvAbbBUz"
    },
    {
      "cell_type": "code",
      "metadata": {
        "colab": {
          "base_uri": "https://localhost:8080/",
          "height": 172
        },
        "id": "nRR0ahRzbFwW",
        "outputId": "5869a5a2-2648-4097-8d0e-60095bfd8a0f"
      },
      "source": [
        "mm.groupby('region_origin')['missing'].sum().to_frame().sort_values(by='missing',ascending= False).head(3)"
      ],
      "id": "nRR0ahRzbFwW",
      "execution_count": null,
      "outputs": [
        {
          "output_type": "execute_result",
          "data": {
            "text/html": [
              "<div>\n",
              "<style scoped>\n",
              "    .dataframe tbody tr th:only-of-type {\n",
              "        vertical-align: middle;\n",
              "    }\n",
              "\n",
              "    .dataframe tbody tr th {\n",
              "        vertical-align: top;\n",
              "    }\n",
              "\n",
              "    .dataframe thead th {\n",
              "        text-align: right;\n",
              "    }\n",
              "</style>\n",
              "<table border=\"1\" class=\"dataframe\">\n",
              "  <thead>\n",
              "    <tr style=\"text-align: right;\">\n",
              "      <th></th>\n",
              "      <th>missing</th>\n",
              "    </tr>\n",
              "    <tr>\n",
              "      <th>region_origin</th>\n",
              "      <th></th>\n",
              "    </tr>\n",
              "  </thead>\n",
              "  <tbody>\n",
              "    <tr>\n",
              "      <th>unknown</th>\n",
              "      <td>2803.0</td>\n",
              "    </tr>\n",
              "    <tr>\n",
              "      <th>Mixed</th>\n",
              "      <td>2314.0</td>\n",
              "    </tr>\n",
              "    <tr>\n",
              "      <th>Sub-Saharan Africa</th>\n",
              "      <td>2290.0</td>\n",
              "    </tr>\n",
              "  </tbody>\n",
              "</table>\n",
              "</div>"
            ],
            "text/plain": [
              "                    missing\n",
              "region_origin              \n",
              "unknown              2803.0\n",
              "Mixed                2314.0\n",
              "Sub-Saharan Africa   2290.0"
            ]
          },
          "metadata": {},
          "execution_count": 242
        }
      ]
    },
    {
      "cell_type": "code",
      "metadata": {
        "colab": {
          "base_uri": "https://localhost:8080/",
          "height": 281
        },
        "id": "dp1jsv7tbP7B",
        "outputId": "79a31b72-e90b-436b-ae1b-e637ad4e0b31"
      },
      "source": [
        "mm.groupby('region_origin')['missing'].sum().to_frame().plot(kind = \"barh\", title = \"Migrant Region and Missing People\");"
      ],
      "id": "dp1jsv7tbP7B",
      "execution_count": null,
      "outputs": [
        {
          "output_type": "display_data",
          "data": {
            "image/png": "[encoded data removed]",
            "text/plain": [
              "<Figure size 432x288 with 1 Axes>"
            ]
          },
          "metadata": {
            "needs_background": "light"
          }
        }
      ]
    },
    {
      "cell_type": "markdown",
      "metadata": {
        "id": "KhfrjWIIfyYk"
      },
      "source": [
        "The region of origin with the highest no. of missing people is unknown.The second highest is from people of mixed race, closely followed by people from Sub-Saharan Africa"
      ],
      "id": "KhfrjWIIfyYk"
    },
    {
      "cell_type": "markdown",
      "metadata": {
        "id": "zftSzpkoep-L"
      },
      "source": [
        "**4 What was the most affected nationality?**"
      ],
      "id": "zftSzpkoep-L"
    },
    {
      "cell_type": "code",
      "metadata": {
        "id": "EwQz9GOMfecs",
        "colab": {
          "base_uri": "https://localhost:8080/",
          "height": 281
        },
        "outputId": "3f8b3fce-a1aa-4083-8245-fa85cd0d0460"
      },
      "source": [
        "mm['affected_nationality'].value_counts().head(15).plot(kind = \"barh\", title = \"Affected Nationality\");"
      ],
      "id": "EwQz9GOMfecs",
      "execution_count": null,
      "outputs": [
        {
          "output_type": "display_data",
          "data": {
            "image/png": "[encoded data removed]",
            "text/plain": [
              "<Figure size 432x288 with 1 Axes>"
            ]
          },
          "metadata": {
            "needs_background": "light"
          }
        }
      ]
    },
    {
      "cell_type": "markdown",
      "metadata": {
        "id": "IHr3niGPb-Gv"
      },
      "source": [
        "The most affected nationality was unknown then followed by Mexico."
      ],
      "id": "IHr3niGPb-Gv"
    },
    {
      "cell_type": "markdown",
      "metadata": {
        "id": "732qIslkbqqW"
      },
      "source": [
        "**5. Which incident region had the highest deaths**"
      ],
      "id": "732qIslkbqqW"
    },
    {
      "cell_type": "code",
      "metadata": {
        "id": "1knNTXqjf6Xd",
        "colab": {
          "base_uri": "https://localhost:8080/",
          "height": 142
        },
        "outputId": "f5de6184-8182-4e67-c86f-3e0d282e9831"
      },
      "source": [
        "mm.groupby('incident_region')['dead'].sum().to_frame().sort_values(by='dead',ascending= False).head(2)"
      ],
      "id": "1knNTXqjf6Xd",
      "execution_count": null,
      "outputs": [
        {
          "output_type": "execute_result",
          "data": {
            "text/html": [
              "<div>\n",
              "<style scoped>\n",
              "    .dataframe tbody tr th:only-of-type {\n",
              "        vertical-align: middle;\n",
              "    }\n",
              "\n",
              "    .dataframe tbody tr th {\n",
              "        vertical-align: top;\n",
              "    }\n",
              "\n",
              "    .dataframe thead th {\n",
              "        text-align: right;\n",
              "    }\n",
              "</style>\n",
              "<table border=\"1\" class=\"dataframe\">\n",
              "  <thead>\n",
              "    <tr style=\"text-align: right;\">\n",
              "      <th></th>\n",
              "      <th>dead</th>\n",
              "    </tr>\n",
              "    <tr>\n",
              "      <th>incident_region</th>\n",
              "      <th></th>\n",
              "    </tr>\n",
              "  </thead>\n",
              "  <tbody>\n",
              "    <tr>\n",
              "      <th>Mediterranean</th>\n",
              "      <td>4826.0</td>\n",
              "    </tr>\n",
              "    <tr>\n",
              "      <th>North Africa</th>\n",
              "      <td>2257.0</td>\n",
              "    </tr>\n",
              "  </tbody>\n",
              "</table>\n",
              "</div>"
            ],
            "text/plain": [
              "                   dead\n",
              "incident_region        \n",
              "Mediterranean    4826.0\n",
              "North Africa     2257.0"
            ]
          },
          "metadata": {},
          "execution_count": 220
        }
      ]
    },
    {
      "cell_type": "code",
      "metadata": {
        "colab": {
          "base_uri": "https://localhost:8080/",
          "height": 298
        },
        "id": "a6MiokmvTmv5",
        "outputId": "7a94a0d4-0f68-48cb-831d-a9b94c3b5f2d"
      },
      "source": [
        "mm.groupby('incident_region')['dead'].sum().to_frame().plot(kind = \"barh\", title = \"Incident Region and Deaths\")"
      ],
      "id": "a6MiokmvTmv5",
      "execution_count": null,
      "outputs": [
        {
          "output_type": "execute_result",
          "data": {
            "text/plain": [
              "<matplotlib.axes._subplots.AxesSubplot at 0x7f03015f5a50>"
            ]
          },
          "metadata": {},
          "execution_count": 221
        },
        {
          "output_type": "display_data",
          "data": {
            "image/png": "[encoded data removed]",
            "text/plain": [
              "<Figure size 432x288 with 1 Axes>"
            ]
          },
          "metadata": {
            "needs_background": "light"
          }
        }
      ]
    },
    {
      "cell_type": "markdown",
      "metadata": {
        "id": "wwOJiP_he4We"
      },
      "source": [
        "Most death incidents occured in the Mediterranean region."
      ],
      "id": "wwOJiP_he4We"
    },
    {
      "cell_type": "markdown",
      "metadata": {
        "id": "i9jYnUTKcrfZ"
      },
      "source": [
        "**6. Which incident region had the highest missing people**"
      ],
      "id": "i9jYnUTKcrfZ"
    },
    {
      "cell_type": "code",
      "metadata": {
        "colab": {
          "base_uri": "https://localhost:8080/",
          "height": 142
        },
        "id": "Y0gtkkB4cwL-",
        "outputId": "b76cd3cb-5aff-46ab-88d1-f5e9610f06fe"
      },
      "source": [
        "mm.groupby('incident_region')['missing'].sum().to_frame().sort_values(by='missing',ascending= False).head(2)"
      ],
      "id": "Y0gtkkB4cwL-",
      "execution_count": null,
      "outputs": [
        {
          "output_type": "execute_result",
          "data": {
            "text/html": [
              "<div>\n",
              "<style scoped>\n",
              "    .dataframe tbody tr th:only-of-type {\n",
              "        vertical-align: middle;\n",
              "    }\n",
              "\n",
              "    .dataframe tbody tr th {\n",
              "        vertical-align: top;\n",
              "    }\n",
              "\n",
              "    .dataframe thead th {\n",
              "        text-align: right;\n",
              "    }\n",
              "</style>\n",
              "<table border=\"1\" class=\"dataframe\">\n",
              "  <thead>\n",
              "    <tr style=\"text-align: right;\">\n",
              "      <th></th>\n",
              "      <th>missing</th>\n",
              "    </tr>\n",
              "    <tr>\n",
              "      <th>incident_region</th>\n",
              "      <th></th>\n",
              "    </tr>\n",
              "  </thead>\n",
              "  <tbody>\n",
              "    <tr>\n",
              "      <th>Mediterranean</th>\n",
              "      <td>8989.0</td>\n",
              "    </tr>\n",
              "    <tr>\n",
              "      <th>Southeast Asia</th>\n",
              "      <td>1032.0</td>\n",
              "    </tr>\n",
              "  </tbody>\n",
              "</table>\n",
              "</div>"
            ],
            "text/plain": [
              "                 missing\n",
              "incident_region         \n",
              "Mediterranean     8989.0\n",
              "Southeast Asia    1032.0"
            ]
          },
          "metadata": {},
          "execution_count": 243
        }
      ]
    },
    {
      "cell_type": "code",
      "metadata": {
        "colab": {
          "base_uri": "https://localhost:8080/",
          "height": 298
        },
        "id": "4sBWpubUfe23",
        "outputId": "7f0e4bba-44f2-465a-8cb2-74257617c177"
      },
      "source": [
        "mm.groupby('incident_region')['missing'].sum().to_frame().plot(kind = \"barh\", title = \"Incident Region and Missing People\")"
      ],
      "id": "4sBWpubUfe23",
      "execution_count": null,
      "outputs": [
        {
          "output_type": "execute_result",
          "data": {
            "text/plain": [
              "<matplotlib.axes._subplots.AxesSubplot at 0x7f0301518910>"
            ]
          },
          "metadata": {},
          "execution_count": 245
        },
        {
          "output_type": "display_data",
          "data": {
            "image/png": "[encoded data removed]",
            "text/plain": [
              "<Figure size 432x288 with 1 Axes>"
            ]
          },
          "metadata": {
            "needs_background": "light"
          }
        }
      ]
    },
    {
      "cell_type": "markdown",
      "metadata": {
        "id": "ZNSPTv6ih7e5"
      },
      "source": [
        "The incident region with highest number of missing people is the Mediterranean Region."
      ],
      "id": "ZNSPTv6ih7e5"
    },
    {
      "cell_type": "markdown",
      "metadata": {
        "id": "3QTuFhJFh7er"
      },
      "source": [
        "# **Conclusion**"
      ],
      "id": "3QTuFhJFh7er"
    },
    {
      "cell_type": "markdown",
      "metadata": {
        "id": "Cg18wFBOJhu3"
      },
      "source": [
        "1. Drowning is the leading cause of death.\n",
        "2. The region of origin with the highest no. of dead people is unknown,\n",
        "then followed by presumed Horn of Africa region. \n",
        "3. The region of origin with the highest no. of missing people is unknown.The second highest is from people of mixed race, closely followed by people from Sub-Saharan Africa.\n",
        "4. The most affected nationality was unknown then followed by Mexico.\n",
        "5. Most death incidents occured in the Mediterranean region.\n",
        "6. The incident region with highest number of missing people is the Mediterranean Region."
      ],
      "id": "Cg18wFBOJhu3"
    },
    {
      "cell_type": "markdown",
      "metadata": {
        "id": "QbZe-Xr4HhTS"
      },
      "source": [
        "# **Recommendation**"
      ],
      "id": "QbZe-Xr4HhTS"
    },
    {
      "cell_type": "markdown",
      "metadata": {
        "id": "GNfUH_tAKSlP"
      },
      "source": [
        "1. Since most deaths are due to drowning,security patrol should be increased along the water routes esp the Mediterranean region.\n",
        "2. More emphasis should be put on orderly and humane management of migration to avoid deaths.\n",
        "3. Provide humanitarian assistance to migrants in need, including refugees and internally displaced people.\n",
        "4. Migration authorities in Mexico should collaborate with the relevant stakeholders to mitigate death and missing of migrants.\n"
      ],
      "id": "GNfUH_tAKSlP"
    },
    {
      "cell_type": "markdown",
      "metadata": {
        "id": "Xzp1ET86Hson"
      },
      "source": [
        "# **Data Relevance**\n",
        "Missing Migrants Project data are compiled from a variety of sources. Sources vary depending on the region and broadly include data from national authorities, such as Coast Guards and Medical Examiners; media reports; NGOs; and interviews with survivors of shipwrecks. In the Mediterranean region, data are relayed from relevant national authorities to IOM field missions, who then share it with the Missing Migrants Project team. Data are also obtained by IOM and other organizations that receive survivors at landing points in Italy and Greece. In other cases, media reports are used. IOM and UNHCR also regularly coordinate on such data to ensure consistency. Data on the U.S./Mexico border are compiled based on data from U.S. county medical examiners and sheriff’s offices, as well as media reports for deaths occurring on the Mexico side of the border. Estimates within Mexico and Central America are based primarily on media and year-end government reports. Data on the Bay of Bengal are drawn from reports by UNHCR and NGOs. In the Horn of Africa, data are obtained from media and NGOs. Data for other regions is drawn from a combination of sources, including media and grassroots organizations. In all regions, Missing Migrants Projectdata represents minimum estimates and are potentially lower than in actuality."
      ],
      "id": "Xzp1ET86Hson"
    }
  ]
}